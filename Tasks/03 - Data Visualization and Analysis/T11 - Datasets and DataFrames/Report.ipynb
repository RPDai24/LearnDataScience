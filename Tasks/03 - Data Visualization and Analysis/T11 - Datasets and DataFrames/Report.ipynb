{
 "cells": [
  {
   "cell_type": "code",
   "execution_count": 58,
   "metadata": {
    "id": "h0LVvvnfJsg5"
   },
   "outputs": [],
   "source": [
    "# Import pandas\n",
    "import pandas as pd"
   ]
  },
  {
   "cell_type": "code",
   "execution_count": 59,
   "metadata": {
    "id": "rv2oLRnPK36J"
   },
   "outputs": [],
   "source": [
    "# Create a DataFrame with balance.txt\n",
    "df = pd.read_csv(\"balance.txt\", delim_whitespace=True)"
   ]
  },
  {
   "cell_type": "markdown",
   "metadata": {
    "id": "_LXpBJXZLYoh"
   },
   "source": [
    "Write the code needed to produce a report that provides the following information:\n",
    "* Compare the average income based on ethnicity.\n",
    "* On average, do married or single people have a higher balance?\n",
    "* What is the highest income in our dataset?\n",
    "* What is the lowest income in our dataset?\n",
    "* How many cards do we have recorded in our dataset? (Hint: use `sum()`)\n",
    "* How many females do we have information for vs how many males? (Hint: use `count()` for a list of all methods for computation of descriptive stats, explore the [pandas documentation](https://pandas.pydata.org/pandas-docs/stable/reference/frame.html#computations-descriptive-stats)).\n",
    "\n",
    "\n"
   ]
  },
  {
   "cell_type": "code",
   "execution_count": 60,
   "metadata": {},
   "outputs": [
    {
     "name": "stdout",
     "output_type": "stream",
     "text": [
      "Pleae compare the average income based on ethnicity, as below:\n",
      " Ethnicity\n",
      "African American    47.682101\n",
      "Asian               44.187833\n",
      "Caucasian           44.521945\n",
      "Name: Income, dtype: float64\n"
     ]
    }
   ],
   "source": [
    "# Compare the average income based on ethnicity.\n",
    "print(\"Pleae compare the average income based on ethnicity, as below:\\n\", df.groupby(\"Ethnicity\")[\"Income\"].mean())"
   ]
  },
  {
   "cell_type": "code",
   "execution_count": 61,
   "metadata": {},
   "outputs": [
    {
     "name": "stdout",
     "output_type": "stream",
     "text": [
      "The average balance of all people is 13.429174748332603\n",
      "Married people don't have a higher balance: 13.388473477498913\n",
      "single people have a higher balance: 13.493509015134242\n"
     ]
    }
   ],
   "source": [
    "# On average, do married or single people have a higher balance?\n",
    "balance_average = df.loc[:, \"Balance\"].mean()\n",
    "print(\"The average balance of all people is\", balance_average)\n",
    "married_balance_average = df[df.Married == \"Yes\"].loc[:,\"Balance\"].mean()\n",
    "single_balance_average = df[df.Married == \"No\"].loc[:,\"Balance\"].mean()\n",
    "if married_balance_average > balance_average:\n",
    "    print(\"Married people have a higher balance:\", married_balance_average)\n",
    "else:\n",
    "    print(\"Married people don't have a higher balance:\", married_balance_average)\n",
    "if single_balance_average > balance_average:\n",
    "    print(\"single people have a higher balance:\", single_balance_average)\n",
    "else:\n",
    "    print(\"single people don't have a higher balance:\", single_balance_average)"
   ]
  },
  {
   "cell_type": "code",
   "execution_count": 62,
   "metadata": {},
   "outputs": [
    {
     "name": "stdout",
     "output_type": "stream",
     "text": [
      "The highest person in our dataset is 186.634\n",
      "The lowest person in our dataset is 10.354\n"
     ]
    }
   ],
   "source": [
    "# What is the highest income in our dataset?\n",
    "print(\"The highest person in our dataset is\", df.loc[:, \"Income\"].max())\n",
    "# What is the lowest income in our dataset?\n",
    "print(\"The lowest person in our dataset is\", df.loc[:, \"Income\"].min())"
   ]
  },
  {
   "cell_type": "code",
   "execution_count": 63,
   "metadata": {},
   "outputs": [
    {
     "name": "stdout",
     "output_type": "stream",
     "text": [
      "We have 1183 cards recorded in our dataset.\n"
     ]
    }
   ],
   "source": [
    "# How many cards do we have recorded in our dataset?\n",
    "print(\"We have\", df.loc[:, \"Cards\"].sum(), \"cards recorded in our dataset.\")"
   ]
  },
  {
   "cell_type": "code",
   "execution_count": 64,
   "metadata": {},
   "outputs": [
    {
     "name": "stdout",
     "output_type": "stream",
     "text": [
      "The number of females we have information for:\n",
      " Balance      207\n",
      "Income       207\n",
      "Limit        207\n",
      "Rating       207\n",
      "Cards        207\n",
      "Age          207\n",
      "Education    207\n",
      "Gender       207\n",
      "Student      207\n",
      "Married      207\n",
      "Ethnicity    207\n",
      "dtype: int64\n",
      "\n",
      "The number of males we have information for:\n",
      " Balance      193\n",
      "Income       193\n",
      "Limit        193\n",
      "Rating       193\n",
      "Cards        193\n",
      "Age          193\n",
      "Education    193\n",
      "Gender       193\n",
      "Student      193\n",
      "Married      193\n",
      "Ethnicity    193\n",
      "dtype: int64\n"
     ]
    }
   ],
   "source": [
    "# How many females do we have information for vs how many males?\n",
    "print(\"The number of females we have information for:\\n\", df[df[\"Gender\"] == \"Female\"].count())\n",
    "print(\"\")\n",
    "print(\"The number of males we have information for:\\n\", df[df[\"Gender\"] == \"Male\"].count())"
   ]
  }
 ],
 "metadata": {
  "colab": {
   "provenance": []
  },
  "kernelspec": {
   "display_name": "Python 3 (ipykernel)",
   "language": "python",
   "name": "python3"
  }
 },
 "nbformat": 4,
 "nbformat_minor": 4
}
